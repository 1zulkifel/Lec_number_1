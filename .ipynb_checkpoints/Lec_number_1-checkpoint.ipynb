{
 "cells": [
  {
   "cell_type": "markdown",
   "metadata": {},
   "source": [
    "# Lec number 1\n",
    "In this lec we'll cover the following topics\n",
    "- [x] variables for string\n",
    "- [x] variables for numbers\n",
    "- [x] Math expression \n",
    "- [x] variable names legal and illegal\n",
    "- [x] Math expressions unfamiliars oprators"
   ]
  },
  {
   "cell_type": "code",
   "execution_count": 12,
   "metadata": {},
   "outputs": [
    {
     "name": "stdout",
     "output_type": "stream",
     "text": [
      "ramzan khan\n",
      "ramzan khan\n",
      "ramzan khan\n",
      "1,2,3,4,$+5,8-9,\n",
      "5+&\n"
     ]
    },
    {
     "data": {
      "text/plain": [
       "'2222fffgge'"
      ]
     },
     "metadata": {},
     "output_type": "display_data"
    }
   ],
   "source": [
    "#  variables for string   #display,print \n",
    "name= 'ramzan khan'\n",
    "print(name)\n",
    "name= ('ramzan khan')\n",
    "print(name)\n",
    "name= \"ramzan khan\"\n",
    "print(name)\n",
    "number=\"1,2,3,4,$+5,8-9,\"\n",
    "print(number)\n",
    "a='5+&'\n",
    "print(a)\n",
    "number='2222fffgge'\n",
    "display (number)"
   ]
  },
  {
   "cell_type": "code",
   "execution_count": 14,
   "metadata": {},
   "outputs": [
    {
     "name": "stdout",
     "output_type": "stream",
     "text": [
      "1\n",
      "3\n",
      "1\n"
     ]
    }
   ],
   "source": [
    "#variables for numbers\n",
    "a=1\n",
    "b=3\n",
    "print(a)\n",
    "print(b)\n",
    "c=a\n",
    "print(c)"
   ]
  },
  {
   "cell_type": "code",
   "execution_count": 15,
   "metadata": {},
   "outputs": [
    {
     "name": "stdout",
     "output_type": "stream",
     "text": [
      "5\n",
      "6\n",
      "0.4\n",
      "1\n"
     ]
    }
   ],
   "source": [
    "# Math expression /,*,+,-\n",
    "a=2\n",
    "b=3\n",
    "c=a+b\n",
    "d=a*b\n",
    "e=a/c\n",
    "f=d-c\n",
    "print(c)\n",
    "print(d)\n",
    "print(e)\n",
    "print(f)"
   ]
  },
  {
   "cell_type": "code",
   "execution_count": 16,
   "metadata": {},
   "outputs": [],
   "source": [
    "#variable names legal and illegal\n",
    "#number_1=11\n",
    "#_h=6\n",
    "#l_=9\n",
    "#number system 1=22 illegal"
   ]
  },
  {
   "cell_type": "code",
   "execution_count": 17,
   "metadata": {},
   "outputs": [
    {
     "data": {
      "text/plain": [
       "3"
      ]
     },
     "execution_count": 17,
     "metadata": {},
     "output_type": "execute_result"
    }
   ],
   "source": [
    "# Math expressions unfamiliars oprators\n",
    "a=13\n",
    "b=10\n",
    "c=a%b # modula optr remainder \n",
    "c"
   ]
  },
  {
   "cell_type": "code",
   "execution_count": 18,
   "metadata": {},
   "outputs": [
    {
     "data": {
      "text/plain": [
       "1.3"
      ]
     },
     "execution_count": 18,
     "metadata": {},
     "output_type": "execute_result"
    }
   ],
   "source": [
    "a=13\n",
    "b=10\n",
    "c=a/b\n",
    "c"
   ]
  },
  {
   "cell_type": "code",
   "execution_count": 19,
   "metadata": {},
   "outputs": [
    {
     "data": {
      "text/plain": [
       "1"
      ]
     },
     "execution_count": 19,
     "metadata": {},
     "output_type": "execute_result"
    }
   ],
   "source": [
    "a=13\n",
    "b=10\n",
    "c=a//b #remove floating values\n",
    "c"
   ]
  },
  {
   "cell_type": "code",
   "execution_count": 20,
   "metadata": {},
   "outputs": [
    {
     "data": {
      "text/plain": [
       "35"
      ]
     },
     "execution_count": 20,
     "metadata": {},
     "output_type": "execute_result"
    }
   ],
   "source": [
    "age=33\n",
    "add_=age+2\n",
    "add_"
   ]
  },
  {
   "cell_type": "code",
   "execution_count": 26,
   "metadata": {},
   "outputs": [
    {
     "name": "stdout",
     "output_type": "stream",
     "text": [
      "55\n"
     ]
    }
   ],
   "source": [
    "age=33\n",
    "age += 22 # /=3,*=3,-=44\n",
    "print(age)"
   ]
  },
  {
   "cell_type": "markdown",
   "metadata": {},
   "source": [
    "#   Lec number 2\n",
    "    \n",
    "\n",
    "<font color='red'>\n",
    "    \n",
    "- [x] Eliminating ambiguity\n",
    "- [x] cancatenating text string\n",
    "\n",
    "</font>\n"
   ]
  },
  {
   "cell_type": "code",
   "execution_count": 35,
   "metadata": {},
   "outputs": [
    {
     "name": "stdout",
     "output_type": "stream",
     "text": [
      "2\n",
      "0.625\n",
      "18.5\n"
     ]
    },
    {
     "data": {
      "text/plain": [
       "16"
      ]
     },
     "execution_count": 35,
     "metadata": {},
     "output_type": "execute_result"
    }
   ],
   "source": [
    "#  Eliminating ambiguity formula (BDMAS)\n",
    "x= 1 + 3 -2\n",
    "print(x)\n",
    "y=1 * 5 / 8\n",
    "print(y)\n",
    "g=1+((9*5/2+44-55)+(11+99)-(12+4)-(44*2))\n",
    "print(g)\n",
    "f=((2+2)*4)\n",
    "f"
   ]
  },
  {
   "cell_type": "code",
   "execution_count": 39,
   "metadata": {},
   "outputs": [
    {
     "data": {
      "text/plain": [
       "'ramzan1212................... khan'"
      ]
     },
     "execution_count": 39,
     "metadata": {},
     "output_type": "execute_result"
    }
   ],
   "source": [
    "#cancatenating text string\n",
    "name='ramzan1212'\n",
    "lname='khan'\n",
    "combine = name+'................... '+lname\n",
    "combine\n"
   ]
  },
  {
   "cell_type": "code",
   "execution_count": 41,
   "metadata": {},
   "outputs": [
    {
     "data": {
      "text/plain": [
       "'my name is ramzan. i am 20 year old. if you subtract 7 from my age the result 13'"
      ]
     },
     "execution_count": 41,
     "metadata": {},
     "output_type": "execute_result"
    }
   ],
   "source": [
    "sentence=(\"my name is ramzan. i am 20 year old. if you subtract 7 from my age the result\"+\" \"+\"13\")\n",
    "sentence"
   ]
  },
  {
   "cell_type": "markdown",
   "metadata": {},
   "source": [
    "# Lec number 3\n",
    "\n",
    "<font color='green'>\n",
    "    \n",
    "- [x] if statements \n",
    "- [x] comparison operators \n",
    "- [x] else and elif statements\n",
    "\n",
    "</font>"
   ]
  },
  {
   "cell_type": "code",
   "execution_count": 1,
   "metadata": {},
   "outputs": [
    {
     "name": "stdout",
     "output_type": "stream",
     "text": [
      "Enter your pasword123var\n",
      "Access granted\n",
      "ok\n"
     ]
    }
   ],
   "source": [
    "#if statements and taking input\n",
    "var =input('Enter your pasword', )\n",
    "if var ==('123var'):\n",
    "    print('Access granted')\n",
    "print ('ok')\n",
    "\n"
   ]
  },
  {
   "cell_type": "code",
   "execution_count": 10,
   "metadata": {},
   "outputs": [
    {
     "name": "stdout",
     "output_type": "stream",
     "text": [
      "4\n",
      "5\n"
     ]
    }
   ],
   "source": [
    "#integer case\n",
    "a= int(input())\n",
    "b=int(input())\n",
    "c=a+b\n",
    "if c == 6:\n",
    "    print('addition is ok',c)"
   ]
  },
  {
   "cell_type": "code",
   "execution_count": 12,
   "metadata": {},
   "outputs": [
    {
     "name": "stdout",
     "output_type": "stream",
     "text": [
      "ai2020\n",
      "congrats you are nominated\n"
     ]
    }
   ],
   "source": [
    "# string case\n",
    "name_id = str(input())\n",
    "if name_id=='ai2020':\n",
    "    print('congrats you are nominated')"
   ]
  },
  {
   "cell_type": "code",
   "execution_count": 13,
   "metadata": {},
   "outputs": [
    {
     "name": "stdout",
     "output_type": "stream",
     "text": [
      "5\n"
     ]
    }
   ],
   "source": [
    "#comparison operators <,>,<=,>=,!=\n",
    "a=5\n",
    "b=9\n",
    "if a<b:\n",
    "    print(a)\n"
   ]
  },
  {
   "cell_type": "code",
   "execution_count": 14,
   "metadata": {},
   "outputs": [],
   "source": [
    "a=5\n",
    "b=9\n",
    "if a>b:\n",
    "    print(a)"
   ]
  },
  {
   "cell_type": "code",
   "execution_count": 17,
   "metadata": {},
   "outputs": [
    {
     "name": "stdout",
     "output_type": "stream",
     "text": [
      "7\n"
     ]
    }
   ],
   "source": [
    "a=7\n",
    "b=9\n",
    "if a<=b:\n",
    "    print(a)"
   ]
  },
  {
   "cell_type": "code",
   "execution_count": 18,
   "metadata": {},
   "outputs": [],
   "source": [
    "a=5\n",
    "b=9\n",
    "if a>=b:\n",
    "    print(a)"
   ]
  },
  {
   "cell_type": "code",
   "execution_count": 19,
   "metadata": {},
   "outputs": [
    {
     "name": "stdout",
     "output_type": "stream",
     "text": [
      "5\n"
     ]
    }
   ],
   "source": [
    "a=5\n",
    "b=9\n",
    "if a != b:\n",
    "    print(a)"
   ]
  },
  {
   "cell_type": "code",
   "execution_count": 43,
   "metadata": {},
   "outputs": [
    {
     "name": "stdout",
     "output_type": "stream",
     "text": [
      "77\n",
      "Math 77\n",
      "55\n",
      "ENG 55\n",
      "66\n",
      "Bio 66\n",
      "44\n",
      "chem 44\n",
      "c\n"
     ]
    }
   ],
   "source": [
    "#else and elif statements\n",
    "math=int(input())\n",
    "print('Math',math)\n",
    "eng=int(input())\n",
    "print('ENG',eng)\n",
    "bio=int(input())\n",
    "print('Bio',bio)\n",
    "chem=int(input())\n",
    "print('chem',chem)\n",
    "obtained_marks=(math+eng+bio+chem)\n",
    "total=400\n",
    "percentage=obtained_marks/total * 100 #(sum/taotal*100)\n",
    "if percentage >=80:\n",
    "    print('A+')\n",
    "elif percentage >=70:\n",
    "    print('B')\n",
    "elif percentage >=60:\n",
    "    print('c')\n",
    "elif percentage >=50:\n",
    "    print('d')\n",
    "else:\n",
    "    print('fail')\n",
    "    "
   ]
  },
  {
   "cell_type": "code",
   "execution_count": 34,
   "metadata": {},
   "outputs": [
    {
     "name": "stdout",
     "output_type": "stream",
     "text": [
      "iiojh\n",
      "not nominated\n"
     ]
    }
   ],
   "source": [
    "name_id = str(input())\n",
    "if name_id=='ai2020':\n",
    "    print('congrats you are nominated')\n",
    "elif name_id != 'ai2020':\n",
    "    print('not nominated')"
   ]
  },
  {
   "cell_type": "code",
   "execution_count": null,
   "metadata": {},
   "outputs": [],
   "source": []
  }
 ],
 "metadata": {
  "kernelspec": {
   "display_name": "Python 3",
   "language": "python",
   "name": "python3"
  },
  "language_info": {
   "codemirror_mode": {
    "name": "ipython",
    "version": 3
   },
   "file_extension": ".py",
   "mimetype": "text/x-python",
   "name": "python",
   "nbconvert_exporter": "python",
   "pygments_lexer": "ipython3",
   "version": "3.7.4"
  }
 },
 "nbformat": 4,
 "nbformat_minor": 2
}
